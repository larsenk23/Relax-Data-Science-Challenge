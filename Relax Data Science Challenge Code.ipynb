{
 "cells": [
  {
   "cell_type": "code",
   "execution_count": 1,
   "id": "45dbcabc",
   "metadata": {},
   "outputs": [],
   "source": [
    "import pandas as pd\n",
    "import json\n",
    "import numpy as np\n",
    "from datetime import datetime\n",
    "import math\n",
    "import time\n",
    "from datetime import datetime\n",
    "from scipy import stats\n",
    "from matplotlib import pyplot as plt\n",
    "import seaborn as sns"
   ]
  },
  {
   "cell_type": "code",
   "execution_count": 2,
   "id": "e00a122e",
   "metadata": {},
   "outputs": [],
   "source": [
    "from sklearn.model_selection import train_test_split\n",
    "from sklearn.model_selection import RandomizedSearchCV\n",
    "from sklearn.metrics import classification_report, confusion_matrix, plot_confusion_matrix\n",
    "from sklearn.linear_model import LogisticRegression\n",
    "from sklearn.tree import DecisionTreeClassifier\n",
    "from sklearn.ensemble import RandomForestClassifier\n",
    "from sklearn.naive_bayes import MultinomialNB\n",
    "from xgboost import XGBClassifier\n",
    "from imblearn.over_sampling import RandomOverSampler\n",
    "from sklearn.metrics import make_scorer\n",
    "from sklearn import preprocessing\n",
    "from sklearn.metrics import accuracy_score, precision_score, recall_score, f1_score"
   ]
  },
  {
   "cell_type": "code",
   "execution_count": 3,
   "id": "e29495a7",
   "metadata": {},
   "outputs": [],
   "source": [
    "df_1 = pd.read_csv('takehome_user_engagement.csv')"
   ]
  },
  {
   "cell_type": "code",
   "execution_count": 4,
   "id": "a68160b7",
   "metadata": {},
   "outputs": [],
   "source": [
    "df_2 = pd.read_csv('takehome_users.csv')"
   ]
  },
  {
   "cell_type": "code",
   "execution_count": 5,
   "id": "a2ae7191",
   "metadata": {},
   "outputs": [
    {
     "data": {
      "text/html": [
       "<div>\n",
       "<style scoped>\n",
       "    .dataframe tbody tr th:only-of-type {\n",
       "        vertical-align: middle;\n",
       "    }\n",
       "\n",
       "    .dataframe tbody tr th {\n",
       "        vertical-align: top;\n",
       "    }\n",
       "\n",
       "    .dataframe thead th {\n",
       "        text-align: right;\n",
       "    }\n",
       "</style>\n",
       "<table border=\"1\" class=\"dataframe\">\n",
       "  <thead>\n",
       "    <tr style=\"text-align: right;\">\n",
       "      <th></th>\n",
       "      <th>time_stamp</th>\n",
       "      <th>user_id</th>\n",
       "      <th>visited</th>\n",
       "    </tr>\n",
       "  </thead>\n",
       "  <tbody>\n",
       "    <tr>\n",
       "      <th>0</th>\n",
       "      <td>2014-04-22 03:53:30</td>\n",
       "      <td>1</td>\n",
       "      <td>1</td>\n",
       "    </tr>\n",
       "    <tr>\n",
       "      <th>1</th>\n",
       "      <td>2013-11-15 03:45:04</td>\n",
       "      <td>2</td>\n",
       "      <td>1</td>\n",
       "    </tr>\n",
       "    <tr>\n",
       "      <th>2</th>\n",
       "      <td>2013-11-29 03:45:04</td>\n",
       "      <td>2</td>\n",
       "      <td>1</td>\n",
       "    </tr>\n",
       "    <tr>\n",
       "      <th>3</th>\n",
       "      <td>2013-12-09 03:45:04</td>\n",
       "      <td>2</td>\n",
       "      <td>1</td>\n",
       "    </tr>\n",
       "    <tr>\n",
       "      <th>4</th>\n",
       "      <td>2013-12-25 03:45:04</td>\n",
       "      <td>2</td>\n",
       "      <td>1</td>\n",
       "    </tr>\n",
       "  </tbody>\n",
       "</table>\n",
       "</div>"
      ],
      "text/plain": [
       "            time_stamp  user_id  visited\n",
       "0  2014-04-22 03:53:30        1        1\n",
       "1  2013-11-15 03:45:04        2        1\n",
       "2  2013-11-29 03:45:04        2        1\n",
       "3  2013-12-09 03:45:04        2        1\n",
       "4  2013-12-25 03:45:04        2        1"
      ]
     },
     "execution_count": 5,
     "metadata": {},
     "output_type": "execute_result"
    }
   ],
   "source": [
    "df_1.head()"
   ]
  },
  {
   "cell_type": "code",
   "execution_count": 6,
   "id": "881c4b5e",
   "metadata": {},
   "outputs": [
    {
     "name": "stdout",
     "output_type": "stream",
     "text": [
      "<class 'pandas.core.frame.DataFrame'>\n",
      "RangeIndex: 207917 entries, 0 to 207916\n",
      "Data columns (total 3 columns):\n",
      " #   Column      Non-Null Count   Dtype \n",
      "---  ------      --------------   ----- \n",
      " 0   time_stamp  207917 non-null  object\n",
      " 1   user_id     207917 non-null  int64 \n",
      " 2   visited     207917 non-null  int64 \n",
      "dtypes: int64(2), object(1)\n",
      "memory usage: 4.8+ MB\n"
     ]
    }
   ],
   "source": [
    "df_1.info()"
   ]
  },
  {
   "cell_type": "code",
   "execution_count": 7,
   "id": "79d5344d",
   "metadata": {},
   "outputs": [],
   "source": [
    "df_1['time_stamp'] = pd.to_datetime(df_1['time_stamp'])"
   ]
  },
  {
   "cell_type": "code",
   "execution_count": 8,
   "id": "7b35f396",
   "metadata": {},
   "outputs": [
    {
     "name": "stderr",
     "output_type": "stream",
     "text": [
      "<ipython-input-8-4d594ffec820>:1: FutureWarning: Series.dt.weekofyear and Series.dt.week have been deprecated.  Please use Series.dt.isocalendar().week instead.\n",
      "  df_1['wk'] = df_1['time_stamp'].dt.week\n"
     ]
    }
   ],
   "source": [
    "df_1['wk'] = df_1['time_stamp'].dt.week\n",
    "df_1['year'] = df_1['time_stamp'].dt.year\n",
    "df_1['month'] = df_1['time_stamp'].dt.month\n",
    "df_1['day'] = df_1['time_stamp'].dt.day"
   ]
  },
  {
   "cell_type": "code",
   "execution_count": 9,
   "id": "2f56f7af",
   "metadata": {},
   "outputs": [],
   "source": [
    "df_1 = df_1.drop(columns='time_stamp', axis = 1)"
   ]
  },
  {
   "cell_type": "code",
   "execution_count": 10,
   "id": "e9e8e3a4",
   "metadata": {},
   "outputs": [
    {
     "data": {
      "text/html": [
       "<div>\n",
       "<style scoped>\n",
       "    .dataframe tbody tr th:only-of-type {\n",
       "        vertical-align: middle;\n",
       "    }\n",
       "\n",
       "    .dataframe tbody tr th {\n",
       "        vertical-align: top;\n",
       "    }\n",
       "\n",
       "    .dataframe thead th {\n",
       "        text-align: right;\n",
       "    }\n",
       "</style>\n",
       "<table border=\"1\" class=\"dataframe\">\n",
       "  <thead>\n",
       "    <tr style=\"text-align: right;\">\n",
       "      <th></th>\n",
       "      <th>user_id</th>\n",
       "      <th>visited</th>\n",
       "      <th>wk</th>\n",
       "      <th>year</th>\n",
       "      <th>month</th>\n",
       "      <th>day</th>\n",
       "    </tr>\n",
       "  </thead>\n",
       "  <tbody>\n",
       "    <tr>\n",
       "      <th>0</th>\n",
       "      <td>1</td>\n",
       "      <td>1</td>\n",
       "      <td>17</td>\n",
       "      <td>2014</td>\n",
       "      <td>4</td>\n",
       "      <td>22</td>\n",
       "    </tr>\n",
       "    <tr>\n",
       "      <th>1</th>\n",
       "      <td>2</td>\n",
       "      <td>1</td>\n",
       "      <td>46</td>\n",
       "      <td>2013</td>\n",
       "      <td>11</td>\n",
       "      <td>15</td>\n",
       "    </tr>\n",
       "    <tr>\n",
       "      <th>2</th>\n",
       "      <td>2</td>\n",
       "      <td>1</td>\n",
       "      <td>48</td>\n",
       "      <td>2013</td>\n",
       "      <td>11</td>\n",
       "      <td>29</td>\n",
       "    </tr>\n",
       "    <tr>\n",
       "      <th>3</th>\n",
       "      <td>2</td>\n",
       "      <td>1</td>\n",
       "      <td>50</td>\n",
       "      <td>2013</td>\n",
       "      <td>12</td>\n",
       "      <td>9</td>\n",
       "    </tr>\n",
       "    <tr>\n",
       "      <th>4</th>\n",
       "      <td>2</td>\n",
       "      <td>1</td>\n",
       "      <td>52</td>\n",
       "      <td>2013</td>\n",
       "      <td>12</td>\n",
       "      <td>25</td>\n",
       "    </tr>\n",
       "  </tbody>\n",
       "</table>\n",
       "</div>"
      ],
      "text/plain": [
       "   user_id  visited  wk  year  month  day\n",
       "0        1        1  17  2014      4   22\n",
       "1        2        1  46  2013     11   15\n",
       "2        2        1  48  2013     11   29\n",
       "3        2        1  50  2013     12    9\n",
       "4        2        1  52  2013     12   25"
      ]
     },
     "execution_count": 10,
     "metadata": {},
     "output_type": "execute_result"
    }
   ],
   "source": [
    "df_1.head()"
   ]
  },
  {
   "cell_type": "code",
   "execution_count": 11,
   "id": "47513b26",
   "metadata": {},
   "outputs": [
    {
     "data": {
      "text/plain": [
       "0"
      ]
     },
     "execution_count": 11,
     "metadata": {},
     "output_type": "execute_result"
    }
   ],
   "source": [
    "df_1.duplicated().sum()"
   ]
  },
  {
   "cell_type": "code",
   "execution_count": 12,
   "id": "f78ba92a",
   "metadata": {},
   "outputs": [],
   "source": [
    "df_1 = pd.read_csv('takehome_user_engagement.csv')"
   ]
  },
  {
   "cell_type": "code",
   "execution_count": 13,
   "id": "8e016da6",
   "metadata": {},
   "outputs": [
    {
     "name": "stderr",
     "output_type": "stream",
     "text": [
      "<ipython-input-13-b879e8a41f51>:2: FutureWarning: Series.dt.weekofyear and Series.dt.week have been deprecated.  Please use Series.dt.isocalendar().week instead.\n",
      "  df_1['wk'] = df_1['time_stamp'].dt.week\n"
     ]
    }
   ],
   "source": [
    "df_1['time_stamp'] = pd.to_datetime(df_1['time_stamp'])\n",
    "df_1['wk'] = df_1['time_stamp'].dt.week\n",
    "df_1 = df_1.groupby(['wk','user_id'])['time_stamp'].count().reset_index(name = 'count').drop_duplicates()"
   ]
  },
  {
   "cell_type": "code",
   "execution_count": 14,
   "id": "01b21103",
   "metadata": {},
   "outputs": [],
   "source": [
    "df_1['adopted_user'] = np.nan\n",
    "df_1['adopted_user'] = np.where(df_1['count'] >= 3, 1, df_1['adopted_user'])\n",
    "df_1['adopted_user'] = np.where(df_1['count'] <3, 0, df_1['adopted_user'])"
   ]
  },
  {
   "cell_type": "code",
   "execution_count": 15,
   "id": "dd453fb1",
   "metadata": {},
   "outputs": [
    {
     "data": {
      "text/html": [
       "<div>\n",
       "<style scoped>\n",
       "    .dataframe tbody tr th:only-of-type {\n",
       "        vertical-align: middle;\n",
       "    }\n",
       "\n",
       "    .dataframe tbody tr th {\n",
       "        vertical-align: top;\n",
       "    }\n",
       "\n",
       "    .dataframe thead th {\n",
       "        text-align: right;\n",
       "    }\n",
       "</style>\n",
       "<table border=\"1\" class=\"dataframe\">\n",
       "  <thead>\n",
       "    <tr style=\"text-align: right;\">\n",
       "      <th></th>\n",
       "      <th>wk</th>\n",
       "      <th>user_id</th>\n",
       "      <th>count</th>\n",
       "      <th>adopted_user</th>\n",
       "    </tr>\n",
       "  </thead>\n",
       "  <tbody>\n",
       "    <tr>\n",
       "      <th>0</th>\n",
       "      <td>1</td>\n",
       "      <td>2</td>\n",
       "      <td>1</td>\n",
       "      <td>0.0</td>\n",
       "    </tr>\n",
       "    <tr>\n",
       "      <th>1</th>\n",
       "      <td>1</td>\n",
       "      <td>10</td>\n",
       "      <td>5</td>\n",
       "      <td>1.0</td>\n",
       "    </tr>\n",
       "    <tr>\n",
       "      <th>2</th>\n",
       "      <td>1</td>\n",
       "      <td>42</td>\n",
       "      <td>4</td>\n",
       "      <td>1.0</td>\n",
       "    </tr>\n",
       "    <tr>\n",
       "      <th>3</th>\n",
       "      <td>1</td>\n",
       "      <td>43</td>\n",
       "      <td>1</td>\n",
       "      <td>0.0</td>\n",
       "    </tr>\n",
       "    <tr>\n",
       "      <th>4</th>\n",
       "      <td>1</td>\n",
       "      <td>46</td>\n",
       "      <td>1</td>\n",
       "      <td>0.0</td>\n",
       "    </tr>\n",
       "  </tbody>\n",
       "</table>\n",
       "</div>"
      ],
      "text/plain": [
       "   wk  user_id  count  adopted_user\n",
       "0   1        2      1           0.0\n",
       "1   1       10      5           1.0\n",
       "2   1       42      4           1.0\n",
       "3   1       43      1           0.0\n",
       "4   1       46      1           0.0"
      ]
     },
     "execution_count": 15,
     "metadata": {},
     "output_type": "execute_result"
    }
   ],
   "source": [
    "df_1.head()"
   ]
  },
  {
   "cell_type": "code",
   "execution_count": 16,
   "id": "d2ff909d",
   "metadata": {},
   "outputs": [],
   "source": [
    "df_1 = df_1.rename(columns={\"user_id\": 'object_id'})"
   ]
  },
  {
   "cell_type": "code",
   "execution_count": 17,
   "id": "a0204590",
   "metadata": {},
   "outputs": [],
   "source": [
    "df = pd.merge(df_1, df_2, on = 'object_id')"
   ]
  },
  {
   "cell_type": "code",
   "execution_count": 18,
   "id": "79a7904d",
   "metadata": {},
   "outputs": [
    {
     "data": {
      "text/html": [
       "<div>\n",
       "<style scoped>\n",
       "    .dataframe tbody tr th:only-of-type {\n",
       "        vertical-align: middle;\n",
       "    }\n",
       "\n",
       "    .dataframe tbody tr th {\n",
       "        vertical-align: top;\n",
       "    }\n",
       "\n",
       "    .dataframe thead th {\n",
       "        text-align: right;\n",
       "    }\n",
       "</style>\n",
       "<table border=\"1\" class=\"dataframe\">\n",
       "  <thead>\n",
       "    <tr style=\"text-align: right;\">\n",
       "      <th></th>\n",
       "      <th>wk</th>\n",
       "      <th>object_id</th>\n",
       "      <th>count</th>\n",
       "      <th>adopted_user</th>\n",
       "      <th>creation_time</th>\n",
       "      <th>name</th>\n",
       "      <th>email</th>\n",
       "      <th>creation_source</th>\n",
       "      <th>last_session_creation_time</th>\n",
       "      <th>opted_in_to_mailing_list</th>\n",
       "      <th>enabled_for_marketing_drip</th>\n",
       "      <th>org_id</th>\n",
       "      <th>invited_by_user_id</th>\n",
       "    </tr>\n",
       "  </thead>\n",
       "  <tbody>\n",
       "    <tr>\n",
       "      <th>0</th>\n",
       "      <td>1</td>\n",
       "      <td>2</td>\n",
       "      <td>1</td>\n",
       "      <td>0.0</td>\n",
       "      <td>2013-11-15 03:45:04</td>\n",
       "      <td>Poole Matthew</td>\n",
       "      <td>MatthewPoole@gustr.com</td>\n",
       "      <td>ORG_INVITE</td>\n",
       "      <td>1.396238e+09</td>\n",
       "      <td>0</td>\n",
       "      <td>0</td>\n",
       "      <td>1</td>\n",
       "      <td>316.0</td>\n",
       "    </tr>\n",
       "    <tr>\n",
       "      <th>1</th>\n",
       "      <td>2</td>\n",
       "      <td>2</td>\n",
       "      <td>1</td>\n",
       "      <td>0.0</td>\n",
       "      <td>2013-11-15 03:45:04</td>\n",
       "      <td>Poole Matthew</td>\n",
       "      <td>MatthewPoole@gustr.com</td>\n",
       "      <td>ORG_INVITE</td>\n",
       "      <td>1.396238e+09</td>\n",
       "      <td>0</td>\n",
       "      <td>0</td>\n",
       "      <td>1</td>\n",
       "      <td>316.0</td>\n",
       "    </tr>\n",
       "    <tr>\n",
       "      <th>2</th>\n",
       "      <td>6</td>\n",
       "      <td>2</td>\n",
       "      <td>3</td>\n",
       "      <td>1.0</td>\n",
       "      <td>2013-11-15 03:45:04</td>\n",
       "      <td>Poole Matthew</td>\n",
       "      <td>MatthewPoole@gustr.com</td>\n",
       "      <td>ORG_INVITE</td>\n",
       "      <td>1.396238e+09</td>\n",
       "      <td>0</td>\n",
       "      <td>0</td>\n",
       "      <td>1</td>\n",
       "      <td>316.0</td>\n",
       "    </tr>\n",
       "    <tr>\n",
       "      <th>3</th>\n",
       "      <td>7</td>\n",
       "      <td>2</td>\n",
       "      <td>2</td>\n",
       "      <td>0.0</td>\n",
       "      <td>2013-11-15 03:45:04</td>\n",
       "      <td>Poole Matthew</td>\n",
       "      <td>MatthewPoole@gustr.com</td>\n",
       "      <td>ORG_INVITE</td>\n",
       "      <td>1.396238e+09</td>\n",
       "      <td>0</td>\n",
       "      <td>0</td>\n",
       "      <td>1</td>\n",
       "      <td>316.0</td>\n",
       "    </tr>\n",
       "    <tr>\n",
       "      <th>4</th>\n",
       "      <td>10</td>\n",
       "      <td>2</td>\n",
       "      <td>1</td>\n",
       "      <td>0.0</td>\n",
       "      <td>2013-11-15 03:45:04</td>\n",
       "      <td>Poole Matthew</td>\n",
       "      <td>MatthewPoole@gustr.com</td>\n",
       "      <td>ORG_INVITE</td>\n",
       "      <td>1.396238e+09</td>\n",
       "      <td>0</td>\n",
       "      <td>0</td>\n",
       "      <td>1</td>\n",
       "      <td>316.0</td>\n",
       "    </tr>\n",
       "  </tbody>\n",
       "</table>\n",
       "</div>"
      ],
      "text/plain": [
       "   wk  object_id  count  adopted_user        creation_time           name  \\\n",
       "0   1          2      1           0.0  2013-11-15 03:45:04  Poole Matthew   \n",
       "1   2          2      1           0.0  2013-11-15 03:45:04  Poole Matthew   \n",
       "2   6          2      3           1.0  2013-11-15 03:45:04  Poole Matthew   \n",
       "3   7          2      2           0.0  2013-11-15 03:45:04  Poole Matthew   \n",
       "4  10          2      1           0.0  2013-11-15 03:45:04  Poole Matthew   \n",
       "\n",
       "                    email creation_source  last_session_creation_time  \\\n",
       "0  MatthewPoole@gustr.com      ORG_INVITE                1.396238e+09   \n",
       "1  MatthewPoole@gustr.com      ORG_INVITE                1.396238e+09   \n",
       "2  MatthewPoole@gustr.com      ORG_INVITE                1.396238e+09   \n",
       "3  MatthewPoole@gustr.com      ORG_INVITE                1.396238e+09   \n",
       "4  MatthewPoole@gustr.com      ORG_INVITE                1.396238e+09   \n",
       "\n",
       "   opted_in_to_mailing_list  enabled_for_marketing_drip  org_id  \\\n",
       "0                         0                           0       1   \n",
       "1                         0                           0       1   \n",
       "2                         0                           0       1   \n",
       "3                         0                           0       1   \n",
       "4                         0                           0       1   \n",
       "\n",
       "   invited_by_user_id  \n",
       "0               316.0  \n",
       "1               316.0  \n",
       "2               316.0  \n",
       "3               316.0  \n",
       "4               316.0  "
      ]
     },
     "execution_count": 18,
     "metadata": {},
     "output_type": "execute_result"
    }
   ],
   "source": [
    "df.head()"
   ]
  },
  {
   "cell_type": "code",
   "execution_count": 19,
   "id": "f3dab5c1",
   "metadata": {},
   "outputs": [
    {
     "data": {
      "text/plain": [
       "1.0    29771\n",
       "0.0    27401\n",
       "Name: adopted_user, dtype: int64"
      ]
     },
     "execution_count": 19,
     "metadata": {},
     "output_type": "execute_result"
    }
   ],
   "source": [
    "df.adopted_user.value_counts()"
   ]
  },
  {
   "cell_type": "code",
   "execution_count": 20,
   "id": "54bbf8fc",
   "metadata": {},
   "outputs": [],
   "source": [
    "df = df.drop(['object_id', 'count', 'name', 'email', 'wk'], axis = 1)"
   ]
  },
  {
   "cell_type": "code",
   "execution_count": 21,
   "id": "f515db5c",
   "metadata": {},
   "outputs": [],
   "source": [
    "categorical_feat = ['creation_time', 'creation_source']"
   ]
  },
  {
   "cell_type": "code",
   "execution_count": 22,
   "id": "dd7b69f1",
   "metadata": {},
   "outputs": [
    {
     "name": "stdout",
     "output_type": "stream",
     "text": [
      "for feature creation_time: label-encoding was done succesfully\n",
      "for feature creation_source: label-encoding was done succesfully\n"
     ]
    }
   ],
   "source": [
    "for feature in categorical_feat:\n",
    "    label_encoder = preprocessing.LabelEncoder()\n",
    "    label_encoder.fit(list(df[feature].values.astype('str')))\n",
    "    df[feature] = label_encoder.transform(list(df[feature].values.astype('str'))) \n",
    "    print(\"for feature {0}: label-encoding was done succesfully\".format(feature))"
   ]
  },
  {
   "cell_type": "code",
   "execution_count": 23,
   "id": "507a9477",
   "metadata": {},
   "outputs": [
    {
     "data": {
      "image/png": "[encoded data removed]",
      "text/plain": [
       "<Figure size 864x720 with 2 Axes>"
      ]
     },
     "metadata": {
      "needs_background": "light"
     },
     "output_type": "display_data"
    }
   ],
   "source": [
    "plt.figure(figsize=(12,10))\n",
    "p=sns.heatmap(df.corr(), annot=True,cmap ='Blues')\n",
    "plt.title('Correlation between various features');"
   ]
  },
  {
   "cell_type": "code",
   "execution_count": 24,
   "id": "b5f262b8",
   "metadata": {},
   "outputs": [],
   "source": [
    "df_0 = df[df['adopted_user']== 0]\n",
    "df_1 = df[df['adopted_user']== 1]"
   ]
  },
  {
   "cell_type": "code",
   "execution_count": 25,
   "id": "4e43ca2f",
   "metadata": {},
   "outputs": [
    {
     "data": {
      "image/png": "[encoded data removed]",
      "text/plain": [
       "<Figure size 720x576 with 1 Axes>"
      ]
     },
     "metadata": {
      "needs_background": "light"
     },
     "output_type": "display_data"
    }
   ],
   "source": [
    "plt.figure(figsize=(10, 8))\n",
    "plt.hist(df_0['last_session_creation_time'])\n",
    "plt.title('Histogram of Last Session Creation Time for Non-Adopted Users')\n",
    "plt.xlabel('Last Session Creation Time');"
   ]
  },
  {
   "cell_type": "code",
   "execution_count": 26,
   "id": "d64215b6",
   "metadata": {},
   "outputs": [
    {
     "data": {
      "text/plain": [
       "count    2.740100e+04\n",
       "mean     1.389738e+09\n",
       "std      1.720652e+07\n",
       "min      1.338452e+09\n",
       "25%      1.380156e+09\n",
       "50%      1.400641e+09\n",
       "75%      1.401620e+09\n",
       "max      1.402067e+09\n",
       "Name: last_session_creation_time, dtype: float64"
      ]
     },
     "execution_count": 26,
     "metadata": {},
     "output_type": "execute_result"
    }
   ],
   "source": [
    "df_0['last_session_creation_time'].describe()"
   ]
  },
  {
   "cell_type": "code",
   "execution_count": 27,
   "id": "0eddf4cc",
   "metadata": {},
   "outputs": [
    {
     "data": {
      "text/plain": [
       "count    2.977100e+04\n",
       "mean     1.400824e+09\n",
       "std      4.368932e+06\n",
       "min      1.345699e+09\n",
       "25%      1.401161e+09\n",
       "50%      1.401697e+09\n",
       "75%      1.401869e+09\n",
       "max      1.401926e+09\n",
       "Name: last_session_creation_time, dtype: float64"
      ]
     },
     "execution_count": 27,
     "metadata": {},
     "output_type": "execute_result"
    }
   ],
   "source": [
    "df_1['last_session_creation_time'].describe()"
   ]
  },
  {
   "cell_type": "code",
   "execution_count": 28,
   "id": "b7b31728",
   "metadata": {},
   "outputs": [
    {
     "data": {
      "image/png": "[encoded data removed]",
      "text/plain": [
       "<Figure size 720x576 with 1 Axes>"
      ]
     },
     "metadata": {
      "needs_background": "light"
     },
     "output_type": "display_data"
    }
   ],
   "source": [
    "plt.figure(figsize=(10, 8))\n",
    "plt.hist(df_1['last_session_creation_time'])\n",
    "plt.title('Histogram of Last Session Creation Time for Adopted Users')\n",
    "plt.xlabel('Last Session Creation Time');"
   ]
  },
  {
   "cell_type": "code",
   "execution_count": 29,
   "id": "f6c63106",
   "metadata": {},
   "outputs": [
    {
     "data": {
      "text/plain": [
       "(0,)"
      ]
     },
     "execution_count": 29,
     "metadata": {},
     "output_type": "execute_result"
    }
   ],
   "source": [
    "df_0['creation_time'].min(),"
   ]
  },
  {
   "cell_type": "code",
   "execution_count": 30,
   "id": "558f883d",
   "metadata": {},
   "outputs": [
    {
     "data": {
      "text/plain": [
       "8820"
      ]
     },
     "execution_count": 30,
     "metadata": {},
     "output_type": "execute_result"
    }
   ],
   "source": [
    "df_0['creation_time'].max()"
   ]
  },
  {
   "cell_type": "code",
   "execution_count": 31,
   "id": "89cfaa84",
   "metadata": {},
   "outputs": [
    {
     "data": {
      "text/plain": [
       "12"
      ]
     },
     "execution_count": 31,
     "metadata": {},
     "output_type": "execute_result"
    }
   ],
   "source": [
    "df_1['creation_time'].min()"
   ]
  },
  {
   "cell_type": "code",
   "execution_count": 32,
   "id": "bd19e7f2",
   "metadata": {},
   "outputs": [
    {
     "data": {
      "text/plain": [
       "8468"
      ]
     },
     "execution_count": 32,
     "metadata": {},
     "output_type": "execute_result"
    }
   ],
   "source": [
    "df_1['creation_time'].max()"
   ]
  },
  {
   "cell_type": "code",
   "execution_count": 33,
   "id": "14d12771",
   "metadata": {},
   "outputs": [
    {
     "name": "stdout",
     "output_type": "stream",
     "text": [
      "<class 'pandas.core.frame.DataFrame'>\n",
      "Int64Index: 57172 entries, 0 to 57171\n",
      "Data columns (total 8 columns):\n",
      " #   Column                      Non-Null Count  Dtype  \n",
      "---  ------                      --------------  -----  \n",
      " 0   adopted_user                57172 non-null  float64\n",
      " 1   creation_time               57172 non-null  int64  \n",
      " 2   creation_source             57172 non-null  int64  \n",
      " 3   last_session_creation_time  57172 non-null  float64\n",
      " 4   opted_in_to_mailing_list    57172 non-null  int64  \n",
      " 5   enabled_for_marketing_drip  57172 non-null  int64  \n",
      " 6   org_id                      57172 non-null  int64  \n",
      " 7   invited_by_user_id          32190 non-null  float64\n",
      "dtypes: float64(3), int64(5)\n",
      "memory usage: 3.9 MB\n"
     ]
    }
   ],
   "source": [
    "df.info()"
   ]
  },
  {
   "cell_type": "code",
   "execution_count": 34,
   "id": "49d8b416",
   "metadata": {},
   "outputs": [
    {
     "data": {
      "text/plain": [
       "1.0    29771\n",
       "0.0    27401\n",
       "Name: adopted_user, dtype: int64"
      ]
     },
     "execution_count": 34,
     "metadata": {},
     "output_type": "execute_result"
    }
   ],
   "source": [
    "df['adopted_user'].value_counts()"
   ]
  },
  {
   "cell_type": "code",
   "execution_count": 35,
   "id": "8bfa0b5f",
   "metadata": {},
   "outputs": [],
   "source": [
    "df['invited_by_user_id'] = df['invited_by_user_id'].replace(np.nan, 0)"
   ]
  },
  {
   "cell_type": "code",
   "execution_count": 36,
   "id": "cdf9fe67",
   "metadata": {},
   "outputs": [
    {
     "name": "stdout",
     "output_type": "stream",
     "text": [
      "<class 'pandas.core.frame.DataFrame'>\n",
      "Int64Index: 57172 entries, 0 to 57171\n",
      "Data columns (total 8 columns):\n",
      " #   Column                      Non-Null Count  Dtype  \n",
      "---  ------                      --------------  -----  \n",
      " 0   adopted_user                57172 non-null  float64\n",
      " 1   creation_time               57172 non-null  int64  \n",
      " 2   creation_source             57172 non-null  int64  \n",
      " 3   last_session_creation_time  57172 non-null  float64\n",
      " 4   opted_in_to_mailing_list    57172 non-null  int64  \n",
      " 5   enabled_for_marketing_drip  57172 non-null  int64  \n",
      " 6   org_id                      57172 non-null  int64  \n",
      " 7   invited_by_user_id          57172 non-null  float64\n",
      "dtypes: float64(3), int64(5)\n",
      "memory usage: 3.9 MB\n"
     ]
    }
   ],
   "source": [
    "df.info()"
   ]
  },
  {
   "cell_type": "code",
   "execution_count": 37,
   "id": "2ffeb490",
   "metadata": {},
   "outputs": [],
   "source": [
    "X = df.drop(columns='adopted_user', axis = 1)\n",
    "y = df['adopted_user']"
   ]
  },
  {
   "cell_type": "code",
   "execution_count": 38,
   "id": "825a6716",
   "metadata": {},
   "outputs": [],
   "source": [
    "X_train, X_test, y_train, y_test = train_test_split(X, y, test_size=0.3, random_state=47)"
   ]
  },
  {
   "cell_type": "code",
   "execution_count": 39,
   "id": "a4d3f4fd",
   "metadata": {},
   "outputs": [],
   "source": [
    "model = LogisticRegression()\n",
    "\n",
    "parameters = {'class_weight': ['balanced', None],\n",
    "              'penalty' : ['l1', 'l2', 'none'],\n",
    "              'C': np.arange(0.5, 20.0, 0.5),\n",
    "              'fit_intercept': [True, False],\n",
    "             'multi_class': ['auto','ovr','multinomial']}"
   ]
  },
  {
   "cell_type": "code",
   "execution_count": 40,
   "id": "cdbd3226",
   "metadata": {},
   "outputs": [
    {
     "name": "stderr",
     "output_type": "stream",
     "text": [
      "/Users/kasey.larsen/opt/anaconda3/lib/python3.8/site-packages/sklearn/model_selection/_search.py:918: UserWarning: One or more of the test scores are non-finite: [0.67841079 0.52258871 0.52258871 0.67841079        nan        nan\n",
      " 0.67841079 0.52258871 0.67841079        nan]\n",
      "  warnings.warn(\n"
     ]
    },
    {
     "name": "stdout",
     "output_type": "stream",
     "text": [
      " Results from Random Search \n",
      "\n",
      " The best estimator across ALL searched params:\n",
      " LogisticRegression(C=16.0, class_weight='balanced', fit_intercept=False)\n"
     ]
    }
   ],
   "source": [
    "lg_random = RandomizedSearchCV(estimator = model, param_distributions = parameters,\n",
    "                               verbose = False, n_iter = 10, cv = 5, random_state=42, n_jobs = -1)\n",
    "lg_random.fit(X_train, y_train)\n",
    "\n",
    "print(\" Results from Random Search \" )\n",
    "print(\"\\n The best estimator across ALL searched params:\\n\", lg_random.best_estimator_)"
   ]
  },
  {
   "cell_type": "code",
   "execution_count": 41,
   "id": "9fd44030",
   "metadata": {},
   "outputs": [
    {
     "name": "stdout",
     "output_type": "stream",
     "text": [
      "Confusion matrix: \n",
      " [[5271 3024]\n",
      " [2574 6283]]\n",
      "Classification report: \n",
      "               precision    recall  f1-score   support\n",
      "\n",
      "         0.0       0.67      0.64      0.65      8295\n",
      "         1.0       0.68      0.71      0.69      8857\n",
      "\n",
      "    accuracy                           0.67     17152\n",
      "   macro avg       0.67      0.67      0.67     17152\n",
      "weighted avg       0.67      0.67      0.67     17152\n",
      "\n"
     ]
    }
   ],
   "source": [
    "y_pred = lg_random.predict(X_test)\n",
    "print('Confusion matrix: \\n', confusion_matrix(y_test, y_pred))\n",
    "print('Classification report: \\n', classification_report(y_test, y_pred))"
   ]
  },
  {
   "cell_type": "code",
   "execution_count": 42,
   "id": "2cf4a0e9",
   "metadata": {},
   "outputs": [
    {
     "data": {
      "text/plain": [
       "<sklearn.metrics._plot.confusion_matrix.ConfusionMatrixDisplay at 0x7fb3d539e0d0>"
      ]
     },
     "execution_count": 42,
     "metadata": {},
     "output_type": "execute_result"
    },
    {
     "data": {
      "image/png": "[encoded data removed]",
      "text/plain": [
       "<Figure size 432x288 with 2 Axes>"
      ]
     },
     "metadata": {
      "needs_background": "light"
     },
     "output_type": "display_data"
    }
   ],
   "source": [
    "plot_confusion_matrix(lg_random, X_test, y_test,xticks_rotation='vertical')"
   ]
  },
  {
   "cell_type": "code",
   "execution_count": 43,
   "id": "4e98bef5",
   "metadata": {},
   "outputs": [],
   "source": [
    "lg_acc_score = accuracy_score(y_test, y_pred)\n",
    "lg_pre_score = precision_score(y_test, y_pred)\n",
    "lg_rec_score = recall_score(y_test, y_pred)\n",
    "lg_f1_score = f1_score(y_test, y_pred)"
   ]
  },
  {
   "cell_type": "code",
   "execution_count": 44,
   "id": "cce66054",
   "metadata": {},
   "outputs": [],
   "source": [
    "model = DecisionTreeClassifier()\n",
    "\n",
    "parameters = {'criterion': ['gini', 'entropy'],\n",
    "              'splitter': ['best', 'random'],\n",
    "               'max_depth': [3,4,5,10,15,20,25,50,75,100,125,150,200, None],\n",
    "               'min_samples_split': [3,10,50,100,150,200,250,300,350,400,450,500,550,600,650,700],\n",
    "               'min_samples_leaf': [1,2,3,4,5,10,20,25, 30, 50, 75, 100],\n",
    "               'max_features': ['auto', 'sqrt', 'log2'],\n",
    "               'max_leaf_nodes': [3,4,5,10,15,20,25,50,75,100,125,150,200, None]}"
   ]
  },
  {
   "cell_type": "code",
   "execution_count": 45,
   "id": "187c2174",
   "metadata": {},
   "outputs": [
    {
     "name": "stdout",
     "output_type": "stream",
     "text": [
      " Results from Random Search \n",
      "\n",
      " The best estimator across ALL searched params:\n",
      " DecisionTreeClassifier(max_depth=50, max_features='sqrt', max_leaf_nodes=100,\n",
      "                       min_samples_leaf=25, min_samples_split=100)\n"
     ]
    }
   ],
   "source": [
    "dt_random = RandomizedSearchCV(estimator = model, param_distributions = parameters, n_iter = 10, cv = 5, \n",
    "                               random_state=42, n_jobs = -1)\n",
    "dt_random.fit(X_train, y_train)\n",
    "\n",
    "print(\" Results from Random Search \" )\n",
    "print(\"\\n The best estimator across ALL searched params:\\n\", dt_random.best_estimator_)"
   ]
  },
  {
   "cell_type": "code",
   "execution_count": 46,
   "id": "5f8c3330",
   "metadata": {},
   "outputs": [
    {
     "name": "stdout",
     "output_type": "stream",
     "text": [
      "Confusion matrix: \n",
      " [[6039 2256]\n",
      " [1431 7426]]\n",
      "Classification report: \n",
      "               precision    recall  f1-score   support\n",
      "\n",
      "         0.0       0.81      0.73      0.77      8295\n",
      "         1.0       0.77      0.84      0.80      8857\n",
      "\n",
      "    accuracy                           0.79     17152\n",
      "   macro avg       0.79      0.78      0.78     17152\n",
      "weighted avg       0.79      0.79      0.78     17152\n",
      "\n"
     ]
    }
   ],
   "source": [
    "y_pred = dt_random.predict(X_test)\n",
    "print('Confusion matrix: \\n', confusion_matrix(y_test, y_pred))\n",
    "print('Classification report: \\n', classification_report(y_test, y_pred))"
   ]
  },
  {
   "cell_type": "code",
   "execution_count": 47,
   "id": "405f5ec5",
   "metadata": {},
   "outputs": [
    {
     "data": {
      "text/plain": [
       "<sklearn.metrics._plot.confusion_matrix.ConfusionMatrixDisplay at 0x7fb3d697b9d0>"
      ]
     },
     "execution_count": 47,
     "metadata": {},
     "output_type": "execute_result"
    },
    {
     "data": {
      "image/png": "[encoded data removed]",
      "text/plain": [
       "<Figure size 432x288 with 2 Axes>"
      ]
     },
     "metadata": {
      "needs_background": "light"
     },
     "output_type": "display_data"
    }
   ],
   "source": [
    "plot_confusion_matrix(dt_random, X_test, y_test,xticks_rotation='vertical')"
   ]
  },
  {
   "cell_type": "code",
   "execution_count": 48,
   "id": "0e12fc6c",
   "metadata": {},
   "outputs": [],
   "source": [
    "dt_acc_score = accuracy_score(y_test, y_pred)\n",
    "dt_pre_score = precision_score(y_test, y_pred)\n",
    "dt_rec_score = recall_score(y_test, y_pred)\n",
    "dt_f1_score = f1_score(y_test, y_pred)"
   ]
  },
  {
   "cell_type": "code",
   "execution_count": 49,
   "id": "41d975d3",
   "metadata": {},
   "outputs": [],
   "source": [
    "model = RandomForestClassifier()\n",
    "\n",
    "parameters = {'n_estimators': [5,6,7,8,9,10,15,20,25,30,35,40,45,50,75,100,200],\n",
    "              'criterion': ['gini', 'entropy'],\n",
    "               'max_features': ['auto', 'sqrt', 'log2'],\n",
    "               'max_depth': [3,4,5,10,15,20,25,50,75,100,125,150,200, None],\n",
    "               'min_samples_split': [3,10,50,100,150,200,250,300,350,400,450,500,550,600,650,700],\n",
    "               'min_samples_leaf': [1,2,3,4,5,10,20,25, 30, 50, 75, 100],\n",
    "               'min_weight_fraction_leaf': [0.01, 0.1, 0.25, 0.001, 0.5, 0.75, 0.9],\n",
    "               'bootstrap': [True, False]}"
   ]
  },
  {
   "cell_type": "code",
   "execution_count": 50,
   "id": "ec03ddaf",
   "metadata": {},
   "outputs": [
    {
     "name": "stderr",
     "output_type": "stream",
     "text": [
      "/Users/kasey.larsen/opt/anaconda3/lib/python3.8/site-packages/sklearn/model_selection/_search.py:918: UserWarning: One or more of the test scores are non-finite: [       nan 0.79002999        nan        nan 0.78925537        nan\n",
      " 0.52258871        nan        nan 0.77378811]\n",
      "  warnings.warn(\n"
     ]
    },
    {
     "name": "stdout",
     "output_type": "stream",
     "text": [
      " Results from Random Search \n",
      "\n",
      " The best estimator across ALL searched params:\n",
      " RandomForestClassifier(bootstrap=False, max_depth=200, max_features='sqrt',\n",
      "                       min_samples_leaf=2, min_samples_split=700,\n",
      "                       min_weight_fraction_leaf=0.01, n_estimators=35)\n"
     ]
    }
   ],
   "source": [
    "rf_random = RandomizedSearchCV(estimator = model, param_distributions = parameters, n_iter = 10, cv = 5, \n",
    "                               verbose = False, random_state=42, n_jobs = -1)\n",
    "rf_random.fit(X_train, y_train)\n",
    "\n",
    "print(\" Results from Random Search \" )\n",
    "print(\"\\n The best estimator across ALL searched params:\\n\", rf_random.best_estimator_)"
   ]
  },
  {
   "cell_type": "code",
   "execution_count": 51,
   "id": "f126685a",
   "metadata": {},
   "outputs": [
    {
     "name": "stdout",
     "output_type": "stream",
     "text": [
      "Confusion matrix: \n",
      " [[6284 2011]\n",
      " [1583 7274]]\n",
      "Classification report: \n",
      "               precision    recall  f1-score   support\n",
      "\n",
      "         0.0       0.80      0.76      0.78      8295\n",
      "         1.0       0.78      0.82      0.80      8857\n",
      "\n",
      "    accuracy                           0.79     17152\n",
      "   macro avg       0.79      0.79      0.79     17152\n",
      "weighted avg       0.79      0.79      0.79     17152\n",
      "\n"
     ]
    }
   ],
   "source": [
    "y_pred = rf_random.predict(X_test)\n",
    "print('Confusion matrix: \\n', confusion_matrix(y_test, y_pred))\n",
    "print('Classification report: \\n', classification_report(y_test, y_pred))"
   ]
  },
  {
   "cell_type": "code",
   "execution_count": 52,
   "id": "532cd783",
   "metadata": {},
   "outputs": [
    {
     "data": {
      "text/plain": [
       "<sklearn.metrics._plot.confusion_matrix.ConfusionMatrixDisplay at 0x7fb3d702bca0>"
      ]
     },
     "execution_count": 52,
     "metadata": {},
     "output_type": "execute_result"
    },
    {
     "data": {
      "image/png": "[encoded data removed]",
      "text/plain": [
       "<Figure size 432x288 with 2 Axes>"
      ]
     },
     "metadata": {
      "needs_background": "light"
     },
     "output_type": "display_data"
    }
   ],
   "source": [
    "plot_confusion_matrix(rf_random, X_test, y_test,xticks_rotation='vertical')"
   ]
  },
  {
   "cell_type": "code",
   "execution_count": 53,
   "id": "e1e498c9",
   "metadata": {},
   "outputs": [],
   "source": [
    "rf_acc_score = accuracy_score(y_test, y_pred)\n",
    "rf_pre_score = precision_score(y_test, y_pred)\n",
    "rf_rec_score = recall_score(y_test, y_pred)\n",
    "rf_f1_score = f1_score(y_test, y_pred)"
   ]
  },
  {
   "cell_type": "code",
   "execution_count": 54,
   "id": "09d5d012",
   "metadata": {},
   "outputs": [],
   "source": [
    "model = MultinomialNB()\n",
    "\n",
    "parameters = {\"alpha\":[0.001,0.005,0.1,0.2,0.3,0.4,0.5,0.6,0.7,0.8,0.9,1],\n",
    "                \"fit_prior\":[True,False]}"
   ]
  },
  {
   "cell_type": "code",
   "execution_count": 55,
   "id": "4c20bb62",
   "metadata": {},
   "outputs": [
    {
     "name": "stdout",
     "output_type": "stream",
     "text": [
      " Results from Random Search \n",
      "\n",
      " The best estimator across ALL searched params:\n",
      " MultinomialNB(alpha=0.3)\n"
     ]
    }
   ],
   "source": [
    "mnb_random = RandomizedSearchCV(estimator = model, param_distributions = parameters, n_iter = 10, cv = 5, \n",
    "                               verbose = False, random_state=42, n_jobs = -1)\n",
    "mnb_random.fit(X_train, y_train)\n",
    "\n",
    "print(\" Results from Random Search \" )\n",
    "print(\"\\n The best estimator across ALL searched params:\\n\", mnb_random.best_estimator_)"
   ]
  },
  {
   "cell_type": "code",
   "execution_count": 56,
   "id": "2572bd04",
   "metadata": {},
   "outputs": [
    {
     "name": "stdout",
     "output_type": "stream",
     "text": [
      "Confusion matrix: \n",
      " [[5325 2970]\n",
      " [2622 6235]]\n",
      "Classification report: \n",
      "               precision    recall  f1-score   support\n",
      "\n",
      "         0.0       0.67      0.64      0.66      8295\n",
      "         1.0       0.68      0.70      0.69      8857\n",
      "\n",
      "    accuracy                           0.67     17152\n",
      "   macro avg       0.67      0.67      0.67     17152\n",
      "weighted avg       0.67      0.67      0.67     17152\n",
      "\n"
     ]
    }
   ],
   "source": [
    "y_pred = mnb_random.predict(X_test)\n",
    "print('Confusion matrix: \\n', confusion_matrix(y_test, y_pred))\n",
    "print('Classification report: \\n', classification_report(y_test, y_pred))"
   ]
  },
  {
   "cell_type": "code",
   "execution_count": 57,
   "id": "3130a4c2",
   "metadata": {},
   "outputs": [
    {
     "data": {
      "text/plain": [
       "<sklearn.metrics._plot.confusion_matrix.ConfusionMatrixDisplay at 0x7fb3d70224c0>"
      ]
     },
     "execution_count": 57,
     "metadata": {},
     "output_type": "execute_result"
    },
    {
     "data": {
      "image/png": "[encoded data removed]",
      "text/plain": [
       "<Figure size 432x288 with 2 Axes>"
      ]
     },
     "metadata": {
      "needs_background": "light"
     },
     "output_type": "display_data"
    }
   ],
   "source": [
    "plot_confusion_matrix(mnb_random, X_test, y_test,xticks_rotation='vertical')"
   ]
  },
  {
   "cell_type": "code",
   "execution_count": 58,
   "id": "7ff07822",
   "metadata": {},
   "outputs": [],
   "source": [
    "mnb_acc_score = accuracy_score(y_test, y_pred)\n",
    "mnb_pre_score = precision_score(y_test, y_pred)\n",
    "mnb_rec_score = recall_score(y_test, y_pred)\n",
    "mnb_f1_score = f1_score(y_test, y_pred)"
   ]
  },
  {
   "cell_type": "code",
   "execution_count": 59,
   "id": "43ea9e30",
   "metadata": {},
   "outputs": [],
   "source": [
    "model = XGBClassifier()\n",
    "\n",
    "parameters = {'n_estimators':[5,6,7,8,9,10,15,20,25,30,35,40,45,50,75,100,200],\n",
    "          'min_child_weight': [1, 5, 10],\n",
    "          'gamma': [0.1, 0.25, 0.5, 1, 1.5, 2, 5],\n",
    "          'subsample': [0.6, 0.8, 1.0],\n",
    "          'colsample_bytree': [0.6, 0.8, 1.0],\n",
    "          'class_weight':[None,'balanced'],\n",
    "          'max_depth': [1,2,3,4,5,10,15,20,25,50,75,100,125,150,200],\n",
    "          'learning_rate':[0.001,0.01,0.05,0.1,0.2,0.3]\n",
    "         }"
   ]
  },
  {
   "cell_type": "code",
   "execution_count": 60,
   "id": "84afa081",
   "metadata": {},
   "outputs": [
    {
     "name": "stderr",
     "output_type": "stream",
     "text": [
      "/Users/kasey.larsen/opt/anaconda3/lib/python3.8/site-packages/xgboost/sklearn.py:1146: UserWarning: The use of label encoder in XGBClassifier is deprecated and will be removed in a future release. To remove this warning, do the following: 1) Pass option use_label_encoder=False when constructing XGBClassifier object; and 2) Encode your labels (y) as integers starting with 0, i.e. 0, 1, 2, ..., [num_class - 1].\n",
      "  warnings.warn(label_encoder_deprecation_msg, UserWarning)\n"
     ]
    },
    {
     "name": "stdout",
     "output_type": "stream",
     "text": [
      "[12:20:56] WARNING: /Users/travis/build/dmlc/xgboost/src/learner.cc:1095: Starting in XGBoost 1.3.0, the default evaluation metric used with the objective 'binary:logistic' was changed from 'error' to 'logloss'. Explicitly set eval_metric if you'd like to restore the old behavior.\n",
      " Results from Random Search \n",
      "\n",
      " The best estimator across ALL searched params:\n",
      " XGBClassifier(base_score=0.5, booster='gbtree', class_weight=None,\n",
      "              colsample_bylevel=1, colsample_bynode=1, colsample_bytree=1.0,\n",
      "              gamma=1.5, gpu_id=-1, importance_type='gain',\n",
      "              interaction_constraints='', learning_rate=0.2, max_delta_step=0,\n",
      "              max_depth=150, min_child_weight=10, missing=nan,\n",
      "              monotone_constraints='()', n_estimators=100, n_jobs=8,\n",
      "              num_parallel_tree=1, random_state=0, reg_alpha=0, reg_lambda=1,\n",
      "              scale_pos_weight=1, subsample=1.0, tree_method='exact',\n",
      "              validate_parameters=1, verbosity=None)\n"
     ]
    }
   ],
   "source": [
    "xgb_random = RandomizedSearchCV(estimator = model, param_distributions = parameters, n_iter = 10, cv = 5, \n",
    "                               verbose = False, random_state=42, n_jobs = -1)\n",
    "xgb_random.fit(X_train, y_train)\n",
    "\n",
    "print(\" Results from Random Search \" )\n",
    "print(\"\\n The best estimator across ALL searched params:\\n\", xgb_random.best_estimator_)"
   ]
  },
  {
   "cell_type": "code",
   "execution_count": 61,
   "id": "0566fd86",
   "metadata": {},
   "outputs": [
    {
     "name": "stdout",
     "output_type": "stream",
     "text": [
      "Confusion matrix: \n",
      " [[6535 1760]\n",
      " [1478 7379]]\n",
      "Classification report: \n",
      "               precision    recall  f1-score   support\n",
      "\n",
      "         0.0       0.82      0.79      0.80      8295\n",
      "         1.0       0.81      0.83      0.82      8857\n",
      "\n",
      "    accuracy                           0.81     17152\n",
      "   macro avg       0.81      0.81      0.81     17152\n",
      "weighted avg       0.81      0.81      0.81     17152\n",
      "\n"
     ]
    }
   ],
   "source": [
    "y_pred = xgb_random.predict(X_test)\n",
    "print('Confusion matrix: \\n', confusion_matrix(y_test, y_pred))\n",
    "print('Classification report: \\n', classification_report(y_test, y_pred))"
   ]
  },
  {
   "cell_type": "code",
   "execution_count": 62,
   "id": "0fbeb4a5",
   "metadata": {},
   "outputs": [
    {
     "data": {
      "text/plain": [
       "<sklearn.metrics._plot.confusion_matrix.ConfusionMatrixDisplay at 0x7fb3d59f9670>"
      ]
     },
     "execution_count": 62,
     "metadata": {},
     "output_type": "execute_result"
    },
    {
     "data": {
      "image/png": "[encoded data removed]",
      "text/plain": [
       "<Figure size 432x288 with 2 Axes>"
      ]
     },
     "metadata": {
      "needs_background": "light"
     },
     "output_type": "display_data"
    }
   ],
   "source": [
    "plot_confusion_matrix(xgb_random, X_test, y_test,xticks_rotation='vertical')"
   ]
  },
  {
   "cell_type": "code",
   "execution_count": 63,
   "id": "c3fd103b",
   "metadata": {},
   "outputs": [],
   "source": [
    "xgb_acc_score = accuracy_score(y_test, y_pred)\n",
    "xgb_pre_score = precision_score(y_test, y_pred)\n",
    "xgb_rec_score = recall_score(y_test, y_pred)\n",
    "xgb_f1_score = f1_score(y_test, y_pred)"
   ]
  },
  {
   "cell_type": "code",
   "execution_count": 64,
   "id": "7bd927ed",
   "metadata": {},
   "outputs": [],
   "source": [
    "# Creating a models table\n",
    "model_selection=pd.DataFrame({'Model':['Logistic Regession', 'Decision Tree Classifier', 'Random Forest Classifier',\n",
    "                                        'MultinomialNB', 'XGBClassifier'], \n",
    "                             'Accuracy Score':[lg_acc_score, dt_acc_score, rf_acc_score, mnb_acc_score, xgb_acc_score],\n",
    "                             'Precision Score':[lg_pre_score, dt_pre_score, rf_pre_score, mnb_pre_score,xgb_pre_score],\n",
    "                             'Recall Score':[lg_rec_score, dt_rec_score, rf_rec_score, mnb_rec_score, xgb_rec_score],\n",
    "                             'F1 Score':[lg_f1_score, dt_f1_score, rf_f1_score, mnb_f1_score, xgb_f1_score]})"
   ]
  },
  {
   "cell_type": "code",
   "execution_count": 65,
   "id": "4ea781c3",
   "metadata": {},
   "outputs": [
    {
     "data": {
      "text/html": [
       "<div>\n",
       "<style scoped>\n",
       "    .dataframe tbody tr th:only-of-type {\n",
       "        vertical-align: middle;\n",
       "    }\n",
       "\n",
       "    .dataframe tbody tr th {\n",
       "        vertical-align: top;\n",
       "    }\n",
       "\n",
       "    .dataframe thead th {\n",
       "        text-align: right;\n",
       "    }\n",
       "</style>\n",
       "<table border=\"1\" class=\"dataframe\">\n",
       "  <thead>\n",
       "    <tr style=\"text-align: right;\">\n",
       "      <th></th>\n",
       "      <th>Model</th>\n",
       "      <th>Accuracy Score</th>\n",
       "      <th>Precision Score</th>\n",
       "      <th>Recall Score</th>\n",
       "      <th>F1 Score</th>\n",
       "    </tr>\n",
       "  </thead>\n",
       "  <tbody>\n",
       "    <tr>\n",
       "      <th>0</th>\n",
       "      <td>Logistic Regession</td>\n",
       "      <td>0.673624</td>\n",
       "      <td>0.675083</td>\n",
       "      <td>0.709382</td>\n",
       "      <td>0.691808</td>\n",
       "    </tr>\n",
       "    <tr>\n",
       "      <th>1</th>\n",
       "      <td>Decision Tree Classifier</td>\n",
       "      <td>0.785040</td>\n",
       "      <td>0.766990</td>\n",
       "      <td>0.838433</td>\n",
       "      <td>0.801122</td>\n",
       "    </tr>\n",
       "    <tr>\n",
       "      <th>2</th>\n",
       "      <td>Random Forest Classifier</td>\n",
       "      <td>0.790462</td>\n",
       "      <td>0.783414</td>\n",
       "      <td>0.821271</td>\n",
       "      <td>0.801896</td>\n",
       "    </tr>\n",
       "    <tr>\n",
       "      <th>3</th>\n",
       "      <td>MultinomialNB</td>\n",
       "      <td>0.673974</td>\n",
       "      <td>0.677349</td>\n",
       "      <td>0.703963</td>\n",
       "      <td>0.690400</td>\n",
       "    </tr>\n",
       "    <tr>\n",
       "      <th>4</th>\n",
       "      <td>XGBClassifier</td>\n",
       "      <td>0.811217</td>\n",
       "      <td>0.807419</td>\n",
       "      <td>0.833126</td>\n",
       "      <td>0.820071</td>\n",
       "    </tr>\n",
       "  </tbody>\n",
       "</table>\n",
       "</div>"
      ],
      "text/plain": [
       "                      Model  Accuracy Score  Precision Score  Recall Score  \\\n",
       "0        Logistic Regession        0.673624         0.675083      0.709382   \n",
       "1  Decision Tree Classifier        0.785040         0.766990      0.838433   \n",
       "2  Random Forest Classifier        0.790462         0.783414      0.821271   \n",
       "3             MultinomialNB        0.673974         0.677349      0.703963   \n",
       "4             XGBClassifier        0.811217         0.807419      0.833126   \n",
       "\n",
       "   F1 Score  \n",
       "0  0.691808  \n",
       "1  0.801122  \n",
       "2  0.801896  \n",
       "3  0.690400  \n",
       "4  0.820071  "
      ]
     },
     "execution_count": 65,
     "metadata": {},
     "output_type": "execute_result"
    }
   ],
   "source": [
    "model_selection"
   ]
  },
  {
   "cell_type": "code",
   "execution_count": 66,
   "id": "cc4bf7f5",
   "metadata": {},
   "outputs": [
    {
     "data": {
      "image/png": "[encoded data removed]",
      "text/plain": [
       "<Figure size 432x288 with 1 Axes>"
      ]
     },
     "metadata": {
      "needs_background": "light"
     },
     "output_type": "display_data"
    }
   ],
   "source": [
    "feat_importances = pd.Series(xgb_random.best_estimator_.feature_importances_, index=X.columns)\n",
    "feat_importances.nlargest(15).plot(kind='barh')\n",
    "plt.title(\"Important features\")\n",
    "plt.show()"
   ]
  },
  {
   "cell_type": "code",
   "execution_count": null,
   "id": "99a280e9",
   "metadata": {},
   "outputs": [],
   "source": []
  }
 ],
 "metadata": {
  "kernelspec": {
   "display_name": "Python 3",
   "language": "python",
   "name": "python3"
  },
  "language_info": {
   "codemirror_mode": {
    "name": "ipython",
    "version": 3
   },
   "file_extension": ".py",
   "mimetype": "text/x-python",
   "name": "python",
   "nbconvert_exporter": "python",
   "pygments_lexer": "ipython3",
   "version": "3.8.8"
  }
 },
 "nbformat": 4,
 "nbformat_minor": 5
}
